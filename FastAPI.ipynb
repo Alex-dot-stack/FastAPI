{
 "cells": [
  {
   "cell_type": "markdown",
   "id": "0ec8b3e2-1b27-43a9-b9db-c2a099a56522",
   "metadata": {},
   "source": [
    "# How to build a simple RESTful Car-API with FastAPI and Python?"
   ]
  },
  {
   "cell_type": "markdown",
   "id": "c6eef5e8-8d43-441d-9a52-f1c84cff2188",
   "metadata": {},
   "source": [
    "## Part 1: Project Goal & Overview"
   ]
  },
  {
   "cell_type": "markdown",
   "id": "b1048a16-1f21-450f-831e-30dda341c29d",
   "metadata": {},
   "source": [
    "The goal of this project is to build a RESTful API system using FastAPI, with Uvicorn serving as the server, and Python as the backend programming language. This system allows for the efficient processing of HTTP requests from various clients, such as web browsers and API testing tools"
   ]
  },
  {
   "cell_type": "markdown",
   "id": "44ad21ec-677b-4253-9c68-00ed20b4747d",
   "metadata": {},
   "source": [
    "<img src =\"C:\\Users\\49152\\Desktop\\AlexSchlee\\AWS Developer AB15.09.-ES REICHT!\\Content\\FASTAPI\\pics\\pics_api_test\\pic0_workflow.png\" width=\"1300\" height=\"850\">"
   ]
  },
  {
   "cell_type": "markdown",
   "id": "7a59eb79-7fe0-4206-b0e6-77625a5fbac3",
   "metadata": {},
   "source": [
    "#### Components"
   ]
  },
  {
   "cell_type": "markdown",
   "id": "85465f93-f00b-422d-8425-3ccd87e97e8e",
   "metadata": {},
   "source": [
    "- **Clients**: Chrome browser and **Postman** are clients in this context. **Chrome** can be used to make GET requests directly from the browser's address bar, while Postman allows you to make GET, POST, PUT, and DELETE requests and provides a more comprehensive interface for API testing\n",
    "- **FastAPI**: Our chosen web framework, FastAPI, will handle endpoint routing, request processing, and response generation. It provides a robust and efficient platform for building RESTful APIs\n",
    "- **Uvicorn**: Uvicorn is employed as the ASGI server to run our FastAPI application. It listens for incoming HTTP requests, forwards them to the FastAPI application, and sends back the responses\n",
    "- **Python Backend**: Python serves as the backend programming language. It contains the application logic, data models, and endpoint handlers, ensuring seamless integration with FastAPI\n",
    "- **Database**: In this project, a simple dictionary is used which acts as a placeholder for a database. It simulates the storage of car data within your API. While it's not a full-fledged database system, it serves the purpose of illustrating API fuctionality.\n",
    "- **Swagger/OpenAPI**: We use Swagger/OpenAPI to automatically generate interactive API documentation at endpoints like \"/docs\". This documentation allows users to explore, test, and understand the APIs."
   ]
  },
  {
   "cell_type": "markdown",
   "id": "f2054d62-2437-45bb-8c2d-95c441968c7b",
   "metadata": {},
   "source": [
    "## Part 2 : Theoretical Concepts"
   ]
  },
  {
   "cell_type": "markdown",
   "id": "cd751c3e-76ea-4af7-96a8-66497381f5b4",
   "metadata": {},
   "source": [
    "#### What is FastAPI?"
   ]
  },
  {
   "cell_type": "markdown",
   "id": "315bf790-c7a0-419e-a4e4-68bc4ef42b8f",
   "metadata": {},
   "source": [
    "- modern, high-performance, and easy-to-use web framework for building APIs with Python\n",
    "- designed to make it simple to create web APIs quickly and efficiently while also providing automatic interactive documentation\n",
    "- Interactive API Documentation: FastAPI generates interactive API documentation automatically using the OpenAPI and Swagger standards. This documentation is accessible through a web interface and helps to understand and test the API.\n",
    "- FastAPI is built with asynchronous programming in mind, allowing you to write asynchronous code when needed for I/O-bound tasks\n",
    "- It supports various authentication and authorization mechanisms, making it suitable for building secure APIs."
   ]
  },
  {
   "cell_type": "markdown",
   "id": "7cf454cd-84c9-4bbd-b911-22ba77e10135",
   "metadata": {},
   "source": [
    "#### What is Pydantic?"
   ]
  },
  {
   "cell_type": "markdown",
   "id": "a5adbb59-5686-4dc2-a244-ce0173850b87",
   "metadata": {},
   "source": [
    "- Python library for data validation and parsing\n",
    "- provides a convenient and declarative way to define data schemas and validate input data\n",
    "- Automatic Parsing: It can automatically parse and convert data from various sources (e.g., JSON, dictionaries) into Python objects based on your data class definitions.\n",
    "- Data Modeling: It is often used for modeling and validating data structures, especially when working with APIs, databases, or external data sources."
   ]
  },
  {
   "cell_type": "markdown",
   "id": "19a609ab-a599-4310-847e-9b1469ef9556",
   "metadata": {},
   "source": [
    "#### What is Swagger/OpenAPI?"
   ]
  },
  {
   "cell_type": "markdown",
   "id": "dbe49046-0bdb-4b0d-bb6e-5cd3e8ba6b1d",
   "metadata": {},
   "source": [
    "- provides a clear and standardized way to document APIs, making it easier to understand how to use the API, what endpoints are available, and what data formats to expect\n",
    "-  enable automatic validation of API requests and responses against the defined schema, helping to ensure data consistency and correctness\n",
    "-  integrated in FastAPI"
   ]
  },
  {
   "cell_type": "markdown",
   "id": "4f0cfb73-a414-4788-a7a5-cb350b7e6e76",
   "metadata": {},
   "source": [
    "#### What is Uvicorn?"
   ]
  },
  {
   "cell_type": "markdown",
   "id": "3e57663e-4d6f-4efc-a3d6-cb120348bc6a",
   "metadata": {},
   "source": [
    "-  ASGI (Asynchronous Server Gateway Interface) server that is commonly used to run Python web applications, including frameworks like FastAPI\n",
    "-  designed for serving web applications asynchronously, making it well-suited for high-performance, real-time, and asynchronous web applications\n",
    "-  includes a convenient \"--reload\" option that automatically detects code changes in your application and restarts the server, making it suitable for development and debugging."
   ]
  },
  {
   "cell_type": "markdown",
   "id": "a816cd44-c41d-4832-9b30-77fe3ec86964",
   "metadata": {},
   "source": [
    "## Part 3 : Technical Part and Hands on"
   ]
  },
  {
   "cell_type": "markdown",
   "id": "9da490c6-8add-4fee-963d-8653f33a28b5",
   "metadata": {},
   "source": [
    "#### Requirement\n",
    "- Build a Car API which allows you to perform CRUD (Create, Read, Update, Delete) operations\n",
    "- Use Python and FastAPI\n",
    "- Test your API (for GET-Requests use your Browser & Postman, for POST/PUT/DELETE use Postman)"
   ]
  },
  {
   "cell_type": "markdown",
   "id": "9f19a0f6-bb1c-4792-81fa-4a79207f82d3",
   "metadata": {},
   "source": [
    "#### Import the necessary modules"
   ]
  },
  {
   "cell_type": "code",
   "execution_count": null,
   "id": "c756c77a-9e0f-4e6a-a6ca-2226624cd7ce",
   "metadata": {},
   "outputs": [],
   "source": [
    "# \"FastAPI\" is our web framework, \"HTTPException\" for \n",
    "# HTTP-related exceptions\n",
    "from fastapi import FastAPI, HTTPException \n",
    "# \"BaseModel\" for data validation and parsing, \n",
    "# \"Field\" for specifying additional information about fields in data models\n",
    "from pydantic import BaseModel, Field "
   ]
  },
  {
   "cell_type": "markdown",
   "id": "435d783d-81d6-4b2a-9700-2c266adbfa74",
   "metadata": {},
   "source": [
    "#### Instance of the FastAPI class"
   ]
  },
  {
   "cell_type": "code",
   "execution_count": null,
   "id": "1018fe4b-a61a-4fe3-9c87-df77bb94c1de",
   "metadata": {},
   "outputs": [],
   "source": [
    "app = FastAPI()"
   ]
  },
  {
   "cell_type": "markdown",
   "id": "0f778807-382a-458e-ad7d-005bad1111b9",
   "metadata": {},
   "source": [
    "#### Create a database/record of Cars in a dictionary format"
   ]
  },
  {
   "cell_type": "code",
   "execution_count": null,
   "id": "0a212fc0-7108-4fc0-8da5-b2e010145d23",
   "metadata": {},
   "outputs": [],
   "source": [
    "cars = {\n",
    "    1: {\"make\": \"Toyota\", \"model\": \"Camry\", \"year\": 2005},\n",
    "    2: {\"make\": \"Honda\", \"model\": \"Civic\", \"year\": 2014},\n",
    "    3: {\"make\": \"Ford\", \"model\": \"Mustang\", \"year\": 2022},\n",
    "}"
   ]
  },
  {
   "cell_type": "markdown",
   "id": "ebc2a8cc-5b00-4e60-b2a9-bcd4b1515ff5",
   "metadata": {},
   "source": [
    "#### Pydantic data model class (CarModel)"
   ]
  },
  {
   "cell_type": "code",
   "execution_count": null,
   "id": "400cec8b-0404-4d7b-8a18-5d79c0238726",
   "metadata": {},
   "outputs": [],
   "source": [
    "# CarModel inherits from BaseModel (provided by Pydantic)-\n",
    "# specifies data structure\n",
    "# \"description\" and \"example\" are helpful for documentation,\n",
    "# and are not mandatory fields\n",
    "class CarModel(BaseModel):\n",
    "    # \"make\" with the data type String\n",
    "    make: str = Field(description=\"Make of the car\", example=\"Toyota\")\n",
    "    # \"model\" with the data type String\n",
    "    model: str = Field(description=\"Model of the car\", example=\"Camry\")\n",
    "    # \"year\" with the data type Integer\n",
    "    year: int = Field(description=\"Year of the car\", example=2020)"
   ]
  },
  {
   "cell_type": "markdown",
   "id": "67c172c0-925f-4da5-bebc-ca51900ae96d",
   "metadata": {},
   "source": [
    "#### GET-Endpoint - All Cars"
   ]
  },
  {
   "cell_type": "code",
   "execution_count": null,
   "id": "2454214b-cac1-42b4-b7d2-d63222351dc9",
   "metadata": {},
   "outputs": [],
   "source": [
    "# Decorator for GET-Requests\n",
    "@app.get(\"/cars\")\n",
    "# function that handles GET-Requests\n",
    "def get_cars():\n",
    "    # returns cars dictionary\n",
    "    return cars"
   ]
  },
  {
   "cell_type": "markdown",
   "id": "359826d5-dcee-4638-acdc-0cdf9dc7e758",
   "metadata": {},
   "source": [
    "#### Test your API in your Browser (e.g. Chrome)"
   ]
  },
  {
   "cell_type": "markdown",
   "id": "5343170e-49aa-4935-b9e9-b0bace759636",
   "metadata": {},
   "source": [
    "<img src =\"C:\\Users\\49152\\Desktop\\AlexSchlee\\AWS Developer AB15.09.-ES REICHT!\\Content\\FASTAPI\\pics\\pics_api_test\\pic1_get_all_cars_chrome.png\" width=\"350\" height=\"250\">"
   ]
  },
  {
   "cell_type": "markdown",
   "id": "5da1bde0-56c1-46e1-bf69-4ef79ad6d3c5",
   "metadata": {},
   "source": [
    "#### Test your API with Postman"
   ]
  },
  {
   "cell_type": "markdown",
   "id": "3cca0f46-5e26-4056-a148-c155a2a27f56",
   "metadata": {},
   "source": [
    "<img src =\"C:\\Users\\49152\\Desktop\\AlexSchlee\\AWS Developer AB15.09.-ES REICHT!\\Content\\FASTAPI\\pics\\pics_api_test\\pic2_get_all_cars_postman.png\" width=\"650\" height=\"250\">"
   ]
  },
  {
   "cell_type": "markdown",
   "id": "701e8567-c128-4015-ad81-0410c8eb27b9",
   "metadata": {},
   "source": [
    "#### GET-Endpoint - Find a Car by ID"
   ]
  },
  {
   "cell_type": "code",
   "execution_count": null,
   "id": "d0c54b88-3285-4691-80c2-13ebf08e44e4",
   "metadata": {},
   "outputs": [],
   "source": [
    "# Decorator for GET-Requests, \"car_id\" has to be provided by user \n",
    "@app.get(\"/cars/{car_id}\")\n",
    "# function takes one parameter (car_id must be integer)\n",
    "def get_car(car_id: int):\n",
    "    # corresponding car information from the cars dictionary\n",
    "    car = cars.get(car_id)\n",
    "    # checks whether a car with the specified ID was found in the\n",
    "    # cars dictionary\n",
    "    if car:\n",
    "        # If a car with the specified ID is found, you return the\n",
    "        # car information as the response\n",
    "        return car\n",
    "    # If no car with the specified ID is found = HTTPException\n",
    "    # + status code of 404 (Not Found)\n",
    "    else:\n",
    "        raise HTTPException(status_code=404, detail=\"Car not found\""
   ]
  },
  {
   "cell_type": "markdown",
   "id": "61c7d623-3b7e-4ae1-ba25-48f8e066f67e",
   "metadata": {},
   "source": [
    "#### Test your API in your Browser (e.g. Chrome)"
   ]
  },
  {
   "cell_type": "markdown",
   "id": "2a86b2df-8c20-42ea-8f91-08320b377bee",
   "metadata": {},
   "source": [
    "<img src =\"C:\\Users\\49152\\Desktop\\AlexSchlee\\AWS Developer AB15.09.-ES REICHT!\\Content\\FASTAPI\\pics\\pics_api_test\\pic3_get_car_by_id_chrome.png\" width=\"350\" height=\"250\">"
   ]
  },
  {
   "cell_type": "markdown",
   "id": "9c11df31-df19-4593-bfe0-7b8e2b93b27c",
   "metadata": {},
   "source": [
    "#### Test your API with Postman"
   ]
  },
  {
   "cell_type": "markdown",
   "id": "ecde2ee6-4093-4531-ab66-3e9dcf8fced6",
   "metadata": {},
   "source": [
    "<img src =\"C:\\Users\\49152\\Desktop\\AlexSchlee\\AWS Developer AB15.09.-ES REICHT!\\Content\\FASTAPI\\pics\\pics_api_test\\pic4_get_car_by_id_postman.png\" width=\"650\" height=\"150\">"
   ]
  },
  {
   "cell_type": "markdown",
   "id": "dc6bbf0f-d06d-45fd-b8b4-97239833891c",
   "metadata": {},
   "source": [
    "#### POST-Endpoint - Add a new Car"
   ]
  },
  {
   "cell_type": "code",
   "execution_count": null,
   "id": "2cd1a4fd-94f2-4d7b-9982-4ce65a5d02c6",
   "metadata": {},
   "outputs": [],
   "source": [
    "# Decorator for POST-Requests for a specific endpoint (\"/cars\")\n",
    "@app.post(\"/cars\")\n",
    "# function to execute the POST-Request\n",
    "# takes one parameter, car, of type CarModel (see above)\n",
    "def add_car(car: CarModel):\n",
    "    # generates a new unique ID (key) for the car to be added\n",
    "    # If there are existing cars, it calculates the maximum key (ID)\n",
    "    # and increments it by 1 to generate a new ID\n",
    "    # If there are no existing cars, it sets the ID to 1\n",
    "    car_id = max(cars.keys()) + 1 if cars else 1 \n",
    "    # adds the new car's data to the cars dictionary\n",
    "    cars[car_id] = car.dict()\n",
    "    # car has been added with its unique ID\n",
    "    return {\"message\": f\"Car added with ID {car_id}\"}"
   ]
  },
  {
   "cell_type": "markdown",
   "id": "6775143e-c1cb-4a69-bcf2-f583ae9c7c38",
   "metadata": {},
   "source": [
    "#### Test your API with Postman"
   ]
  },
  {
   "cell_type": "markdown",
   "id": "5bc2593f-2399-410e-9932-177b7da468a0",
   "metadata": {},
   "source": [
    "<img src =\"C:\\Users\\49152\\Desktop\\AlexSchlee\\AWS Developer AB15.09.-ES REICHT!\\Content\\FASTAPI\\pics\\pics_api_test\\pic5_post_car_by_postman.png\" width=\"650\" height=\"450\">"
   ]
  },
  {
   "cell_type": "markdown",
   "id": "ee91f1d6-84cc-4a80-b86c-fdd81cdf6252",
   "metadata": {},
   "source": [
    "<img src =\"C:\\Users\\49152\\Desktop\\AlexSchlee\\AWS Developer AB15.09.-ES REICHT!\\Content\\FASTAPI\\pics\\pics_api_test\\pic6_post_car_by_postman_check.png\" width=\"650\" height=\"450\">"
   ]
  },
  {
   "cell_type": "markdown",
   "id": "3f3eda47-d86e-4b90-bddc-80a6580a88a5",
   "metadata": {},
   "source": [
    "#### PUT-Endpoint - Update Car Information"
   ]
  },
  {
   "cell_type": "code",
   "execution_count": null,
   "id": "4622a57e-32f8-4a99-be33-89975f886f88",
   "metadata": {},
   "outputs": [],
   "source": [
    "# Decorator for PUT-Requests\n",
    "# Endpoint has a dynamic parameter \"car_id\" - replace with actual ID\n",
    "@app.put(\"/cars/{car_id}\")\n",
    "# function handles PUT-Request\n",
    "# 2 parameters (ID and \"updated_car\" in request-\n",
    "# type of CarModel (see above))\n",
    "def update_car(car_id: int, updated_car: CarModel):\n",
    "    # checks whether the specified car_id exists\n",
    "    # in the cars dictionary\n",
    "    # If the car is not found,code raises an HTTPException\n",
    "    # with a status code of 404 (Not Found)\n",
    "    if car_id not in cars:\n",
    "        raise HTTPException(status_code=404, detail=\"Car not found\")\n",
    "    # If the specified car_id is found in the cars dictionary,\n",
    "    # code proceeds to the else block\n",
    "    else:\n",
    "        # Update the car's attributes\n",
    "        car = cars[car_id]\n",
    "        car[\"make\"] = updated_car.make\n",
    "        car[\"model\"] = updated_car.model\n",
    "        car[\"year\"] = updated_car.year\n",
    "        # After successfully updating the car's information,\n",
    "        # function sends success message\n",
    "        return {\"message\": f\"Car with ID {car_id} updated\"}"
   ]
  },
  {
   "cell_type": "markdown",
   "id": "ed29847d-5667-46ac-839e-8399f5b67eaa",
   "metadata": {},
   "source": [
    "#### Test your API with Postman"
   ]
  },
  {
   "cell_type": "markdown",
   "id": "3c4cf2d6-38fa-4abd-96d7-e9da640226fd",
   "metadata": {},
   "source": [
    "<img src =\"C:\\Users\\49152\\Desktop\\AlexSchlee\\AWS Developer AB15.09.-ES REICHT!\\Content\\FASTAPI\\pics\\pics_api_test\\pic7_put_car_by_postman.png\" width=\"650\" height=\"450\">"
   ]
  },
  {
   "cell_type": "markdown",
   "id": "37878933-aec8-4392-bd4a-68bc170445b2",
   "metadata": {},
   "source": [
    "<img src =\"C:\\Users\\49152\\Desktop\\AlexSchlee\\AWS Developer AB15.09.-ES REICHT!\\Content\\FASTAPI\\pics\\pics_api_test\\pic8_put_car_by_postman_check.png\" width=\"650\" height=\"450\">"
   ]
  },
  {
   "cell_type": "markdown",
   "id": "f3676ad1-d304-48da-8b1b-a36476e11e97",
   "metadata": {},
   "source": [
    "#### Delete-Request - Delete a Car (by ID)"
   ]
  },
  {
   "cell_type": "code",
   "execution_count": null,
   "id": "900a271e-8547-487b-9a83-0920d94e726d",
   "metadata": {},
   "outputs": [],
   "source": [
    "# Decorator for DELETE-Requests - dynamic parameter \"car_id\"\n",
    "# - client provides ID\n",
    "@app.delete(\"/cars/{car_id}\")\n",
    "# functions handles DELETE-Request\n",
    "def delete_car(car_id: int):\n",
    "    #  checks whether the specified car_id exists in the\n",
    "    # cars dictionary\n",
    "    # If the car is not found, code raises an HTTPException with\n",
    "    # a status code 404 (Not Found)\n",
    "    if car_id not in cars:\n",
    "        raise HTTPException(status_code=404, detail=\"Car not found\")\n",
    "    # If the specified car_id is found in the cars dictionary,\n",
    "    # the code proceeds to the else block\n",
    "    else:\n",
    "        # deletes the car with the specified car_id from the\n",
    "        # cars dictionary\n",
    "        del cars[car_id]\n",
    "        # JSON message indicating that the car with the specified\n",
    "        # ID has been deleted\n",
    "        return {\"message\": f\"Car with ID {car_id} deleted\"}"
   ]
  },
  {
   "cell_type": "markdown",
   "id": "476e48e9-8126-421d-abc2-c7a91d58d50a",
   "metadata": {},
   "source": [
    "#### Test your API with Postman"
   ]
  },
  {
   "cell_type": "markdown",
   "id": "0cdc56a9-1303-4a30-932a-4f7c7807308c",
   "metadata": {},
   "source": [
    "<img src =\"C:\\Users\\49152\\Desktop\\AlexSchlee\\AWS Developer AB15.09.-ES REICHT!\\Content\\FASTAPI\\pics\\pics_api_test\\pic9_delete_car_by_postman.png\" width=\"650\" height=\"450\">"
   ]
  },
  {
   "cell_type": "markdown",
   "id": "6642b7b2-eed1-47b5-8881-31f2ee448413",
   "metadata": {},
   "source": [
    "<img src =\"C:\\Users\\49152\\Desktop\\AlexSchlee\\AWS Developer AB15.09.-ES REICHT!\\Content\\FASTAPI\\pics\\pics_api_test\\pic9_delete_car_by_postman_check.png\" width=\"650\" height=\"450\">"
   ]
  },
  {
   "cell_type": "markdown",
   "id": "2882c051-96d0-4db3-a48f-0952e23c3957",
   "metadata": {},
   "source": [
    "#### Run your script"
   ]
  },
  {
   "cell_type": "markdown",
   "id": "39cdb523-d6b9-4d6e-9790-03ef1913d06a",
   "metadata": {},
   "source": [
    "##### Install uvicorn\n"
   ]
  },
  {
   "cell_type": "markdown",
   "id": "00720240-6213-4b3c-9a9d-e3dd05d097a8",
   "metadata": {},
   "source": [
    "<img src =\"C:\\Users\\49152\\Desktop\\AlexSchlee\\AWS Developer AB15.09.-ES REICHT!\\Content\\FASTAPI\\pip_install_uvicorn.png\" width=\"650\" height=\"450\">"
   ]
  },
  {
   "cell_type": "markdown",
   "id": "f8accd0a-32fb-4bd7-a852-7d8eba1ecb1e",
   "metadata": {},
   "source": [
    "##### Run your application\n",
    "- In this example, the name of your script is \"car_app.py\", \"app\" is the instance of the FastAPI class (see above)\n",
    "- In the context of running a FastAPI application using uvicorn, the \"--reload\" option is used to enable automatic reloading of the server when code changes are detected."
   ]
  },
  {
   "cell_type": "markdown",
   "id": "d39abff8-4e56-4146-9479-df5ee474b255",
   "metadata": {},
   "source": [
    "<img src =\"C:\\Users\\49152\\Desktop\\AlexSchlee\\AWS Developer AB15.09.-ES REICHT!\\Content\\FASTAPI\\uvicorn_run.png\" width=\"650\" height=\"450\">"
   ]
  },
  {
   "cell_type": "markdown",
   "id": "1b18c7b8-ccf9-45ff-9111-544405846b9c",
   "metadata": {},
   "source": [
    "## Part 4 - API Documentation"
   ]
  },
  {
   "cell_type": "markdown",
   "id": "b18e0394-324e-41f7-8b7d-1b5a7e017bbc",
   "metadata": {},
   "source": [
    "#### Swagger / Open API Overview"
   ]
  },
  {
   "cell_type": "markdown",
   "id": "7b3c8c10-15c6-46c8-bcb5-e9cf3006962d",
   "metadata": {},
   "source": [
    "- Once your server is running, navigate to the following URL:\n",
    "  http://localhost:8000/docs\n",
    "- Replace \"localhost:8000\" with the appropriate host and port if you specified different values when running your application."
   ]
  },
  {
   "cell_type": "markdown",
   "id": "a8de2a08-1626-4ee5-a733-e87ee940cb03",
   "metadata": {},
   "source": [
    "<img src =\"C:\\Users\\49152\\Desktop\\AlexSchlee\\AWS Developer AB15.09.-ES REICHT!\\Content\\FASTAPI\\pics\\pics_api_test\\pic10_swagger_overview.png\" width=\"900\" height=\"450\">"
   ]
  },
  {
   "cell_type": "markdown",
   "id": "4b9d09e2-ddf7-4ea9-9f24-eee54c5a2bf6",
   "metadata": {},
   "source": [
    "#### Swagger/Open API - Interact with the APIs"
   ]
  },
  {
   "cell_type": "markdown",
   "id": "441f1995-d3b1-4043-8811-251ec7fc7e5e",
   "metadata": {},
   "source": [
    "- 1. Expand the desired API\n",
    "- 2. Click \"Try it out\"\n",
    "- 3. Provide a Request Body if needed (required for POST and PUT)\n",
    "- 4. Click on \"Execute\""
   ]
  },
  {
   "cell_type": "markdown",
   "id": "763d2ab8-07cb-4e71-82da-cebb64bb8141",
   "metadata": {},
   "source": [
    "<img src =\"C:\\Users\\49152\\Desktop\\AlexSchlee\\AWS Developer AB15.09.-ES REICHT!\\Content\\FASTAPI\\pics\\pics_api_test\\pic11_swagger_get_part1.png\" width=\"1000\" height=\"450\">"
   ]
  },
  {
   "cell_type": "markdown",
   "id": "d43bc235-1abe-485d-86fd-ede103cf3c2c",
   "metadata": {},
   "source": [
    "<img src =\"C:\\Users\\49152\\Desktop\\AlexSchlee\\AWS Developer AB15.09.-ES REICHT!\\Content\\FASTAPI\\pics\\pics_api_test\\pic12_swagger_get_part2.png\" width=\"1000\" height=\"800\">"
   ]
  }
 ],
 "metadata": {
  "kernelspec": {
   "display_name": "Python 3 (ipykernel)",
   "language": "python",
   "name": "python3"
  },
  "language_info": {
   "codemirror_mode": {
    "name": "ipython",
    "version": 3
   },
   "file_extension": ".py",
   "mimetype": "text/x-python",
   "name": "python",
   "nbconvert_exporter": "python",
   "pygments_lexer": "ipython3",
   "version": "3.11.4"
  }
 },
 "nbformat": 4,
 "nbformat_minor": 5
}
